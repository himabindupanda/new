{
 "cells": [
  {
   "cell_type": "code",
   "execution_count": 4,
   "metadata": {
    "_cell_guid": "b1076dfc-b9ad-4769-8c92-a6c4dae69d19",
    "_uuid": "8f2839f25d086af736a60e9eeb907d3b93b6e0e5",
    "execution": {
     "iopub.execute_input": "2025-06-12T13:34:59.963879Z",
     "iopub.status.busy": "2025-06-12T13:34:59.963387Z",
     "iopub.status.idle": "2025-06-12T13:34:59.968716Z",
     "shell.execute_reply": "2025-06-12T13:34:59.967954Z",
     "shell.execute_reply.started": "2025-06-12T13:34:59.963855Z"
    },
    "trusted": true
   },
   "outputs": [
    {
     "name": "stdout",
     "output_type": "stream",
     "text": [
      "dragon\n"
     ]
    }
   ],
   "source": [
    "# 1\n",
    "fruits = [['jack', 'apple'], ['orange', 'kiwi'], ['dragon', 'grape']],\n",
    "a = fruits[0][-1][0]\n",
    "print(a)"
   ]
  },
  {
   "cell_type": "code",
   "execution_count": 9,
   "metadata": {
    "execution": {
     "iopub.execute_input": "2025-06-12T13:38:27.999219Z",
     "iopub.status.busy": "2025-06-12T13:38:27.998443Z",
     "iopub.status.idle": "2025-06-12T13:38:28.003939Z",
     "shell.execute_reply": "2025-06-12T13:38:28.003114Z",
     "shell.execute_reply.started": "2025-06-12T13:38:27.999163Z"
    },
    "trusted": true
   },
   "outputs": [
    {
     "name": "stdout",
     "output_type": "stream",
     "text": [
      "5\n"
     ]
    }
   ],
   "source": [
    "# 2\n",
    "coordinates= ((0, 1), (2, 3), (4, 5))\n",
    "a = (coordinates[-1][-1])\n",
    "print(a)"
   ]
  },
  {
   "cell_type": "code",
   "execution_count": 15,
   "metadata": {
    "execution": {
     "iopub.execute_input": "2025-06-12T13:40:40.491232Z",
     "iopub.status.busy": "2025-06-12T13:40:40.490902Z",
     "iopub.status.idle": "2025-06-12T13:40:40.495941Z",
     "shell.execute_reply": "2025-06-12T13:40:40.495005Z",
     "shell.execute_reply.started": "2025-06-12T13:40:40.491206Z"
    },
    "trusted": true
   },
   "outputs": [
    {
     "name": "stdout",
     "output_type": "stream",
     "text": [
      "21\n"
     ]
    }
   ],
   "source": [
    "# 3\n",
    "students = [('Alice', 23), ('Bob', 21)]\n",
    "a = students[-1][-1]\n",
    "print(a)\n"
   ]
  },
  {
   "cell_type": "code",
   "execution_count": 17,
   "metadata": {
    "execution": {
     "iopub.execute_input": "2025-06-12T13:41:56.299587Z",
     "iopub.status.busy": "2025-06-12T13:41:56.299297Z",
     "iopub.status.idle": "2025-06-12T13:41:56.304462Z",
     "shell.execute_reply": "2025-06-12T13:41:56.303528Z",
     "shell.execute_reply.started": "2025-06-12T13:41:56.299568Z"
    },
    "trusted": true
   },
   "outputs": [
    {
     "name": "stdout",
     "output_type": "stream",
     "text": [
      "40\n"
     ]
    }
   ],
   "source": [
    "# 4\n",
    "\n",
    "lists= ([10, 20], [30, 40])\n",
    "a = lists[-1][-1]\n",
    "print(a)\n"
   ]
  },
  {
   "cell_type": "code",
   "execution_count": 4,
   "metadata": {
    "execution": {
     "iopub.execute_input": "2025-06-13T05:51:33.282486Z",
     "iopub.status.busy": "2025-06-13T05:51:33.282202Z",
     "iopub.status.idle": "2025-06-13T05:51:33.291648Z",
     "shell.execute_reply": "2025-06-13T05:51:33.290708Z",
     "shell.execute_reply.started": "2025-06-13T05:51:33.282465Z"
    },
    "trusted": true
   },
   "outputs": [
    {
     "name": "stdout",
     "output_type": "stream",
     "text": [
      "bindu\n"
     ]
    }
   ],
   "source": [
    "# 5\n",
    "students = [\n",
    "    {\"name\": \"bindu\", \"age\": 20},\n",
    "    {\"name\": \"Bhavya\", \"age\": 21},\n",
    "    {\"name\": \"ram\", \"age\": 22}\n",
    "]\n",
    "\n",
    "print(students[0][\"name\"])"
   ]
  },
  {
   "cell_type": "code",
   "execution_count": 6,
   "metadata": {
    "execution": {
     "iopub.execute_input": "2025-06-13T05:56:07.566582Z",
     "iopub.status.busy": "2025-06-13T05:56:07.566311Z",
     "iopub.status.idle": "2025-06-13T05:56:07.572087Z",
     "shell.execute_reply": "2025-06-13T05:56:07.571007Z",
     "shell.execute_reply.started": "2025-06-13T05:56:07.566563Z"
    },
    "trusted": true
   },
   "outputs": [
    {
     "name": "stdout",
     "output_type": "stream",
     "text": [
      "90\n"
     ]
    }
   ],
   "source": [
    "# 6\n",
    "subject_marks = {\n",
    "    \n",
    "    \"Math\": [85, 90, 75],\n",
    "    \"phy\": [65, 76, 92],\n",
    "    \"chem\": [80, 85, 89]\n",
    "}\n",
    "\n",
    "print(subject_marks[\"Math\"][1])"
   ]
  },
  {
   "cell_type": "code",
   "execution_count": 7,
   "metadata": {
    "execution": {
     "iopub.execute_input": "2025-06-13T05:59:15.805535Z",
     "iopub.status.busy": "2025-06-13T05:59:15.805215Z",
     "iopub.status.idle": "2025-06-13T05:59:15.811030Z",
     "shell.execute_reply": "2025-06-13T05:59:15.810100Z",
     "shell.execute_reply.started": "2025-06-13T05:59:15.805513Z"
    },
    "trusted": true
   },
   "outputs": [
    {
     "name": "stdout",
     "output_type": "stream",
     "text": [
      "{'alice': {'age': 25, 'email': 'alice@gmail.com', 'city': 'New York'}}\n"
     ]
    }
   ],
   "source": [
    "# 7\n",
    "user_profile = {\n",
    "    \n",
    "    \"alice\": {\n",
    "    \"age\": 25,\n",
    "    \"email\": \"alice@gmail.com\",\n",
    "    \"city\": \"New York\"\n",
    "    }\n",
    "}\n",
    "print(user_profile)"
   ]
  },
  {
   "cell_type": "code",
   "execution_count": 2,
   "metadata": {
    "execution": {
     "iopub.execute_input": "2025-06-13T08:08:53.357581Z",
     "iopub.status.busy": "2025-06-13T08:08:53.357249Z",
     "iopub.status.idle": "2025-06-13T08:08:53.366553Z",
     "shell.execute_reply": "2025-06-13T08:08:53.365349Z",
     "shell.execute_reply.started": "2025-06-13T08:08:53.357549Z"
    },
    "trusted": true
   },
   "outputs": [
    {
     "name": "stdout",
     "output_type": "stream",
     "text": [
      "Pending\n"
     ]
    }
   ],
   "source": [
    "# 8\n",
    "billing_history = [\n",
    "    {\"id\": 101, \"amount\": 250,\"status\": \"Paid\"},\n",
    "    {\"id\": 102, \"amount\": 300, \"status\": \"Pending\"},\n",
    "    {\"id\": 103, \"amount\": 150, \"status\": \"Failed\"}\n",
    "]\n",
    "\n",
    "print(billing_history[1][\"status\"])\n"
   ]
  },
  {
   "cell_type": "code",
   "execution_count": 10,
   "metadata": {
    "execution": {
     "iopub.execute_input": "2025-06-13T09:46:49.173155Z",
     "iopub.status.busy": "2025-06-13T09:46:49.172778Z",
     "iopub.status.idle": "2025-06-13T09:46:49.179247Z",
     "shell.execute_reply": "2025-06-13T09:46:49.178106Z",
     "shell.execute_reply.started": "2025-06-13T09:46:49.173132Z"
    },
    "trusted": true
   },
   "outputs": [
    {
     "name": "stdout",
     "output_type": "stream",
     "text": [
      "250\n"
     ]
    }
   ],
   "source": [
    "# 9\n",
    "a = (\n",
    "    {\"id\": 101, \"amount\": 250,\"status\": \"Paid\"},\n",
    "    {\"id\": 102, \"amount\": 300, \"status\": \"Pending\"}    \n",
    ")\n",
    "print(a[0]['amount'])"
   ]
  },
  {
   "cell_type": "code",
   "execution_count": 14,
   "metadata": {
    "execution": {
     "iopub.execute_input": "2025-06-13T09:49:55.255896Z",
     "iopub.status.busy": "2025-06-13T09:49:55.255551Z",
     "iopub.status.idle": "2025-06-13T09:49:55.264180Z",
     "shell.execute_reply": "2025-06-13T09:49:55.262576Z",
     "shell.execute_reply.started": "2025-06-13T09:49:55.255873Z"
    },
    "trusted": true
   },
   "outputs": [
    {
     "name": "stdout",
     "output_type": "stream",
     "text": [
      "40\n"
     ]
    }
   ],
   "source": [
    "# 10\n",
    "a = [\n",
    "    ('hyd', 30),\n",
    "    ('vizag',20),\n",
    "    ('vzm',40)\n",
    "]\n",
    "print(a[-1][-1])"
   ]
  },
  {
   "cell_type": "code",
   "execution_count": 5,
   "metadata": {
    "execution": {
     "iopub.execute_input": "2025-06-13T09:51:29.480344Z",
     "iopub.status.busy": "2025-06-13T09:51:29.480073Z",
     "iopub.status.idle": "2025-06-13T09:51:29.485779Z",
     "shell.execute_reply": "2025-06-13T09:51:29.484770Z",
     "shell.execute_reply.started": "2025-06-13T09:51:29.480327Z"
    },
    "trusted": true
   },
   "outputs": [
    {
     "name": "stdout",
     "output_type": "stream",
     "text": [
      "88\n"
     ]
    }
   ],
   "source": [
    "# 11\n",
    "user_scores = {\n",
    "    \"bindu\": [85, 90, 88],\n",
    "    \"bhavya\": [78, 82, 91],\n",
    "    \"ram\": [92, 87, 95]\n",
    "}\n",
    "\n",
    "print(user_scores[\"bindu\"][-1])\n"
   ]
  },
  {
   "cell_type": "code",
   "execution_count": 18,
   "metadata": {
    "execution": {
     "iopub.execute_input": "2025-06-13T09:54:37.574281Z",
     "iopub.status.busy": "2025-06-13T09:54:37.573937Z",
     "iopub.status.idle": "2025-06-13T09:54:37.580196Z",
     "shell.execute_reply": "2025-06-13T09:54:37.578798Z",
     "shell.execute_reply.started": "2025-06-13T09:54:37.574261Z"
    },
    "trusted": true
   },
   "outputs": [
    {
     "name": "stdout",
     "output_type": "stream",
     "text": [
      "Phone\n"
     ]
    }
   ],
   "source": [
    "# 12\n",
    "list = [\n",
    "    {\"product\": \"Bike\",\"price\": 1000000},\n",
    "    {\"product\": \"Phone\",\"price\": 25000}\n",
    "]\n",
    "print(list[-1][\"product\"])"
   ]
  },
  {
   "cell_type": "code",
   "execution_count": 20,
   "metadata": {
    "execution": {
     "iopub.execute_input": "2025-06-13T09:55:40.340162Z",
     "iopub.status.busy": "2025-06-13T09:55:40.339869Z",
     "iopub.status.idle": "2025-06-13T09:55:40.345800Z",
     "shell.execute_reply": "2025-06-13T09:55:40.344898Z",
     "shell.execute_reply.started": "2025-06-13T09:55:40.340140Z"
    },
    "trusted": true
   },
   "outputs": [
    {
     "name": "stdout",
     "output_type": "stream",
     "text": [
      "90\n"
     ]
    }
   ],
   "source": [
    "# 13\n",
    "subject_marks = [\n",
    "    (\"Math\", [85, 90, 78]),\n",
    "    (\"phy\", [88, 76, 92])\n",
    "]\n",
    "\n",
    "print(subject_marks[0][1][1])"
   ]
  },
  {
   "cell_type": "code",
   "execution_count": 21,
   "metadata": {
    "execution": {
     "iopub.execute_input": "2025-06-13T09:57:04.791805Z",
     "iopub.status.busy": "2025-06-13T09:57:04.791498Z",
     "iopub.status.idle": "2025-06-13T09:57:04.798966Z",
     "shell.execute_reply": "2025-06-13T09:57:04.797103Z",
     "shell.execute_reply.started": "2025-06-13T09:57:04.791784Z"
    },
    "trusted": true
   },
   "outputs": [
    {
     "name": "stdout",
     "output_type": "stream",
     "text": [
      "class\n"
     ]
    }
   ],
   "source": [
    "# 14\n",
    "tasks = {\n",
    "    \n",
    "    \"Monday\": (\"class\", \"python\"),\n",
    "    \"Tuesday\": (\"Coding\", \"Testing\"),\n",
    "    \"Wednesday\": (\"movie\", \"Review\")\n",
    "}\n",
    "\n",
    "print(tasks[\"Monday\"][0])\n"
   ]
  },
  {
   "cell_type": "code",
   "execution_count": 1,
   "metadata": {
    "execution": {
     "iopub.execute_input": "2025-06-13T09:58:10.079335Z",
     "iopub.status.busy": "2025-06-13T09:58:10.078421Z",
     "iopub.status.idle": "2025-06-13T09:58:10.085428Z",
     "shell.execute_reply": "2025-06-13T09:58:10.083518Z",
     "shell.execute_reply.started": "2025-06-13T09:58:10.079306Z"
    },
    "trusted": true
   },
   "outputs": [
    {
     "name": "stdout",
     "output_type": "stream",
     "text": [
      "85\n"
     ]
    }
   ],
   "source": [
    "# 15\n",
    "students = [\n",
    "    {\n",
    "        \"name\": \"bindu\",\n",
    "        \"marks\": {\"Math\": 85, \"chem\": 90}\n",
    "    },\n",
    "    {\n",
    "        \"name\": \"bhavya\",\n",
    "        \"marks\": {\"Math\": 78, \"phy\": 88}\n",
    "    }\n",
    "]\n",
    "\n",
    "print(students[0][\"marks\"][\"Math\"])"
   ]
  }
 ],
 "metadata": {
  "kaggle": {
   "accelerator": "none",
   "dataSources": [],
   "dockerImageVersionId": 31040,
   "isGpuEnabled": false,
   "isInternetEnabled": false,
   "language": "python",
   "sourceType": "notebook"
  },
  "kernelspec": {
   "display_name": "Python 3",
   "language": "python",
   "name": "python3"
  },
  "language_info": {
   "codemirror_mode": {
    "name": "ipython",
    "version": 3
   },
   "file_extension": ".py",
   "mimetype": "text/x-python",
   "name": "python",
   "nbconvert_exporter": "python",
   "pygments_lexer": "ipython3",
   "version": "3.13.4"
  }
 },
 "nbformat": 4,
 "nbformat_minor": 4
}
