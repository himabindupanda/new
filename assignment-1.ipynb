{
 "cells": [
  {
   "cell_type": "code",
   "execution_count": null,
   "metadata": {
    "execution": {
     "iopub.execute_input": "2025-06-09T05:55:43.698139Z",
     "iopub.status.busy": "2025-06-09T05:55:43.697781Z",
     "iopub.status.idle": "2025-06-09T05:55:48.191380Z",
     "shell.execute_reply": "2025-06-09T05:55:48.190238Z",
     "shell.execute_reply.started": "2025-06-09T05:55:43.698115Z"
    },
    "trusted": true
   },
   "outputs": [
    {
     "name": "stdout",
     "output_type": "stream",
     "text": [
      "Enter your full name:  bindu pandda\n"
     ]
    },
    {
     "name": "stdout",
     "output_type": "stream",
     "text": [
      "Your first name is: bindu\n"
     ]
    }
   ],
   "source": [
    "#1\n",
    "\n",
    "\n",
    "name = input(\"Enter your full name: \")\n",
    "space= name.find(\" \")\n",
    "first_name = name[:space]\n",
    "print(\"Your first name is:\", first_name)"
   ]
  },
  {
   "cell_type": "code",
   "execution_count": null,
   "metadata": {
    "execution": {
     "execution_failed": "2025-06-09T05:54:24.662Z"
    },
    "trusted": true
   },
   "outputs": [],
   "source": [
    "#2\n",
    "\n",
    "city_name=input(\"enter city name:\")\n",
    "print(f\"{city_name.upper()}\\n{city_name.lower()}\\n{city_name.title()}\")"
   ]
  },
  {
   "cell_type": "code",
   "execution_count": null,
   "metadata": {
    "execution": {
     "execution_failed": "2025-06-09T05:54:24.663Z"
    },
    "trusted": true
   },
   "outputs": [],
   "source": [
    "#3\n",
    "\n",
    "str1=input()\n",
    "reverse=str1[::-1]\n",
    "print(reverse)"
   ]
  },
  {
   "cell_type": "code",
   "execution_count": null,
   "metadata": {
    "execution": {
     "execution_failed": "2025-06-09T05:54:24.663Z"
    },
    "trusted": true
   },
   "outputs": [],
   "source": [
    "#4\n",
    "\n",
    "str1=\"Data\"\n",
    "str2=\"science\"\n",
    "print(f\"{str1}-{str2}\")"
   ]
  },
  {
   "cell_type": "code",
   "execution_count": null,
   "metadata": {
    "execution": {
     "execution_failed": "2025-06-09T05:54:24.663Z"
    },
    "trusted": true
   },
   "outputs": [],
   "source": [
    "#5\n",
    "\n",
    "price=float(input())\n",
    "print(\"Formatted price: ${:.2f}\".format(price))"
   ]
  },
  {
   "cell_type": "code",
   "execution_count": null,
   "metadata": {
    "execution": {
     "execution_failed": "2025-06-09T05:54:24.663Z"
    },
    "trusted": true
   },
   "outputs": [],
   "source": [
    "#6\n",
    "\n",
    "name=\"bindu\"\n",
    "age=21\n",
    "print(f\"my name is {name} my age is {age}\")"
   ]
  },
  {
   "cell_type": "code",
   "execution_count": null,
   "metadata": {
    "execution": {
     "execution_failed": "2025-06-09T05:54:24.663Z"
    },
    "trusted": true
   },
   "outputs": [],
   "source": [
    "#7\n",
    "\n",
    "imp=\"python is awesome\"\n",
    "word=\"python\"\n",
    "print(word in imp)"
   ]
  },
  {
   "cell_type": "code",
   "execution_count": null,
   "metadata": {
    "execution": {
     "iopub.execute_input": "2025-06-09T05:56:42.905569Z",
     "iopub.status.busy": "2025-06-09T05:56:42.905246Z",
     "iopub.status.idle": "2025-06-09T05:56:51.073497Z",
     "shell.execute_reply": "2025-06-09T05:56:51.072725Z",
     "shell.execute_reply.started": "2025-06-09T05:56:42.905544Z"
    },
    "trusted": true
   },
   "outputs": [
    {
     "name": "stdout",
     "output_type": "stream",
     "text": [
      "enter a sentence bindu is my name   \n"
     ]
    },
    {
     "name": "stdout",
     "output_type": "stream",
     "text": [
      "16\n"
     ]
    }
   ],
   "source": [
    "#8\n",
    "\n",
    "sentence=input(\"enter a sentence\")\n",
    "print(len(sentence.strip()))"
   ]
  },
  {
   "cell_type": "code",
   "execution_count": null,
   "metadata": {
    "execution": {
     "iopub.execute_input": "2025-06-09T05:59:52.377590Z",
     "iopub.status.busy": "2025-06-09T05:59:52.377020Z",
     "iopub.status.idle": "2025-06-09T05:59:52.387921Z",
     "shell.execute_reply": "2025-06-09T05:59:52.386612Z",
     "shell.execute_reply.started": "2025-06-09T05:59:52.377553Z"
    },
    "trusted": true
   },
   "outputs": [
    {
     "name": "stdout",
     "output_type": "stream",
     "text": [
      "Final price: 210.0\n"
     ]
    }
   ],
   "source": [
    "#9\n",
    "\n",
    "price = 200\n",
    "price =price+(price * 0.05)\n",
    "print(\"Final price:\", price)\n",
    "\n"
   ]
  },
  {
   "cell_type": "code",
   "execution_count": null,
   "metadata": {
    "execution": {
     "iopub.execute_input": "2025-06-09T06:05:53.550275Z",
     "iopub.status.busy": "2025-06-09T06:05:53.549902Z",
     "iopub.status.idle": "2025-06-09T06:05:53.555504Z",
     "shell.execute_reply": "2025-06-09T06:05:53.554421Z",
     "shell.execute_reply.started": "2025-06-09T06:05:53.550248Z"
    },
    "trusted": true
   },
   "outputs": [
    {
     "name": "stdout",
     "output_type": "stream",
     "text": [
      "True True\n"
     ]
    }
   ],
   "source": [
    "# 10\n",
    "\n",
    "name=\"alice\"\n",
    "print(\"i\" in name,\"z\" not in name) \n"
   ]
  },
  {
   "cell_type": "code",
   "execution_count": null,
   "metadata": {
    "execution": {
     "iopub.execute_input": "2025-06-09T06:08:41.965496Z",
     "iopub.status.busy": "2025-06-09T06:08:41.965160Z",
     "iopub.status.idle": "2025-06-09T06:08:48.814272Z",
     "shell.execute_reply": "2025-06-09T06:08:48.812904Z",
     "shell.execute_reply.started": "2025-06-09T06:08:41.965468Z"
    },
    "trusted": true
   },
   "outputs": [
    {
     "name": "stdout",
     "output_type": "stream",
     "text": [
      " 1\n",
      " 3\n",
      " 4\n"
     ]
    },
    {
     "name": "stdout",
     "output_type": "stream",
     "text": [
      "2.6666666666666665\n"
     ]
    }
   ],
   "source": [
    "#11\n",
    "\n",
    "test1=int(input())\n",
    "test2=int(input())\n",
    "test3=int(input())\n",
    "ave=(test1+test2+test3)/3\n",
    "print(ave)"
   ]
  },
  {
   "cell_type": "code",
   "execution_count": null,
   "metadata": {
    "execution": {
     "iopub.execute_input": "2025-06-09T06:16:56.690797Z",
     "iopub.status.busy": "2025-06-09T06:16:56.690493Z",
     "iopub.status.idle": "2025-06-09T06:17:06.374527Z",
     "shell.execute_reply": "2025-06-09T06:17:06.373476Z",
     "shell.execute_reply.started": "2025-06-09T06:16:56.690776Z"
    },
    "trusted": true
   },
   "outputs": [
    {
     "name": "stdout",
     "output_type": "stream",
     "text": [
      " 14\n",
      " 17\n"
     ]
    },
    {
     "name": "stdout",
     "output_type": "stream",
     "text": [
      "bmi is  0.09\n"
     ]
    }
   ],
   "source": [
    "#12\n",
    "\n",
    "height=int(input())\n",
    "weight=int(input())\n",
    "res=weight/(height**2)\n",
    "print(\"bmi is  {:.2f}\".format(res))"
   ]
  },
  {
   "cell_type": "code",
   "execution_count": null,
   "metadata": {
    "execution": {
     "iopub.execute_input": "2025-06-09T06:19:03.150615Z",
     "iopub.status.busy": "2025-06-09T06:19:03.150338Z",
     "iopub.status.idle": "2025-06-09T06:19:03.155775Z",
     "shell.execute_reply": "2025-06-09T06:19:03.154602Z",
     "shell.execute_reply.started": "2025-06-09T06:19:03.150596Z"
    },
    "trusted": true
   },
   "outputs": [
    {
     "name": "stdout",
     "output_type": "stream",
     "text": [
      "love\n"
     ]
    }
   ],
   "source": [
    "#13\n",
    "\n",
    "string=\"i love python\"\n",
    "word=string[2:6]\n",
    "print(word)"
   ]
  },
  {
   "cell_type": "code",
   "execution_count": null,
   "metadata": {
    "execution": {
     "iopub.execute_input": "2025-06-09T06:22:14.196408Z",
     "iopub.status.busy": "2025-06-09T06:22:14.196010Z",
     "iopub.status.idle": "2025-06-09T06:22:14.201690Z",
     "shell.execute_reply": "2025-06-09T06:22:14.200746Z",
     "shell.execute_reply.started": "2025-06-09T06:22:14.196382Z"
    },
    "trusted": true
   },
   "outputs": [
    {
     "name": "stdout",
     "output_type": "stream",
     "text": [
      "This is a good idea\n"
     ]
    }
   ],
   "source": [
    "#14\n",
    "\n",
    "sentence=\"This is a bad idea\"\n",
    "v=sentence.replace(\"bad\",\"good\")\n",
    "print(v)"
   ]
  },
  {
   "cell_type": "code",
   "execution_count": null,
   "metadata": {
    "execution": {
     "iopub.execute_input": "2025-06-09T06:26:24.642920Z",
     "iopub.status.busy": "2025-06-09T06:26:24.642617Z",
     "iopub.status.idle": "2025-06-09T06:26:24.647695Z",
     "shell.execute_reply": "2025-06-09T06:26:24.646918Z",
     "shell.execute_reply.started": "2025-06-09T06:26:24.642900Z"
    },
    "trusted": true
   },
   "outputs": [
    {
     "name": "stdout",
     "output_type": "stream",
     "text": [
      "False\n",
      "135943532775952 135943532783568\n"
     ]
    }
   ],
   "source": [
    "#15\n",
    "\n",
    "a = 1000\n",
    "b = 1000\n",
    "print(a is b)\n",
    "print(id(a),id(b))"
   ]
  }
 ],
 "metadata": {
  "kaggle": {
   "accelerator": "none",
   "dataSources": [],
   "dockerImageVersionId": 31040,
   "isGpuEnabled": false,
   "isInternetEnabled": false,
   "language": "python",
   "sourceType": "notebook"
  },
  "kernelspec": {
   "display_name": "Python 3",
   "language": "python",
   "name": "python3"
  },
  "language_info": {
   "codemirror_mode": {
    "name": "ipython",
    "version": 3
   },
   "file_extension": ".py",
   "mimetype": "text/x-python",
   "name": "python",
   "nbconvert_exporter": "python",
   "pygments_lexer": "ipython3",
   "version": "3.13.4"
  }
 },
 "nbformat": 4,
 "nbformat_minor": 4
}
